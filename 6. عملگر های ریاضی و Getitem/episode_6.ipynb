{
 "cells": [
  {
   "cell_type": "code",
   "execution_count": 2,
   "outputs": [],
   "source": [
    "class Contact:\n",
    "    def __init__(self, name, last_name, phone=None, email=None, display_mode=\"unmasked\"):\n",
    "        self.name = name\n",
    "        self.last_name = last_name\n",
    "        self.phone = phone\n",
    "        self.email = email\n",
    "        self.display_mode = display_mode\n",
    "\n",
    "    def __eq__(self, other):\n",
    "        if not isinstance(other, Contact):\n",
    "            return False\n",
    "\n",
    "        if (self.email is not None and self.email == other.email) or \\\n",
    "                (self.phone is not None and self.phone == other.phone):\n",
    "            return True\n",
    "\n",
    "        return self.name == other.name and self.last_name == other.last_name\n",
    "\n",
    "    def __hash__(self):\n",
    "        return hash((self.name, self.last_name, self.phone, self.email))\n",
    "\n",
    "    def __repr__(self):\n",
    "        if self.display_mode == \"masked\":\n",
    "            return f\"{self:masked}\"\n",
    "\n",
    "        return f\"{self:unmasked}\"\n",
    "\n",
    "    def __str__(self):\n",
    "        return f\"{self.last_name[0].upper()}{self.name[0].upper()}\"\n",
    "\n",
    "    def __format__(self, format_spec):\n",
    "        if format_spec == \"unmasked\":\n",
    "            return f\"Contact(name='{self.name}', last_name='{self.last_name}', phone='{self.phone}', email='{self.email}')\"\n",
    "\n",
    "        return f\"Contact(name='{self._obfuscate(self.name)}', last_name='{self._obfuscate(self.last_name)}')\"\n",
    "\n",
    "    @staticmethod\n",
    "    def _obfuscate(text):\n",
    "        return text[:2] + '*' * (len(text) - 2)\n"
   ],
   "metadata": {
    "collapsed": false,
    "pycharm": {
     "name": "#%%\n"
    }
   }
  },
  {
   "cell_type": "code",
   "execution_count": 3,
   "outputs": [],
   "source": [
    "c1 = Contact('mohammad', 'fadakar', '+989100000000')\n",
    "c2 = Contact('mohammad2', 'fadakar2', '+989100000002')\n",
    "c3 = Contact('mohammad javad', 'fadakar', '+989100000003')"
   ],
   "metadata": {
    "collapsed": false,
    "pycharm": {
     "name": "#%%\n"
    }
   }
  },
  {
   "cell_type": "code",
   "execution_count": 4,
   "outputs": [
    {
     "data": {
      "text/plain": "Contact(name='mohammad', last_name='fadakar', phone='+989100000000', email='None')"
     },
     "execution_count": 4,
     "metadata": {},
     "output_type": "execute_result"
    }
   ],
   "source": [
    "c1"
   ],
   "metadata": {
    "collapsed": false,
    "pycharm": {
     "name": "#%%\n"
    }
   }
  },
  {
   "cell_type": "code",
   "execution_count": 9,
   "outputs": [],
   "source": [
    "class PhoneBook:\n",
    "    def __init__(self, contacts:list=None):\n",
    "        if contacts is not None:\n",
    "            self.contacts = contacts\n",
    "        else:\n",
    "            self.contacts = []\n",
    "\n",
    "    def __repr__(self):\n",
    "        return f\"PhoneBook(contacts={self.contacts}\"\n",
    "\n",
    "    def add_contact(self, contact:Contact):\n",
    "        if not isinstance(contact, Contact):\n",
    "            raise TypeError(\"faghad az type Contact migire\")\n",
    "\n",
    "        self.contacts.append(contact)\n"
   ],
   "metadata": {
    "collapsed": false,
    "pycharm": {
     "name": "#%%\n"
    }
   }
  },
  {
   "cell_type": "code",
   "execution_count": 10,
   "outputs": [],
   "source": [
    "p = PhoneBook()\n",
    "p.add_contact(c1)"
   ],
   "metadata": {
    "collapsed": false,
    "pycharm": {
     "name": "#%%\n"
    }
   }
  },
  {
   "cell_type": "code",
   "execution_count": 11,
   "outputs": [
    {
     "data": {
      "text/plain": "PhoneBook(contacts=[Contact(name='mohammad', last_name='fadakar', phone='+989100000000', email='None')]"
     },
     "execution_count": 11,
     "metadata": {},
     "output_type": "execute_result"
    }
   ],
   "source": [
    "p"
   ],
   "metadata": {
    "collapsed": false,
    "pycharm": {
     "name": "#%%\n"
    }
   }
  },
  {
   "cell_type": "code",
   "execution_count": 12,
   "outputs": [
    {
     "ename": "TypeError",
     "evalue": "unsupported operand type(s) for +: 'PhoneBook' and 'Contact'",
     "output_type": "error",
     "traceback": [
      "\u001B[1;31m---------------------------------------------------------------------------\u001B[0m",
      "\u001B[1;31mTypeError\u001B[0m                                 Traceback (most recent call last)",
      "Input \u001B[1;32mIn [12]\u001B[0m, in \u001B[0;36m<cell line: 1>\u001B[1;34m()\u001B[0m\n\u001B[1;32m----> 1\u001B[0m \u001B[43mp\u001B[49m\u001B[43m \u001B[49m\u001B[38;5;241;43m+\u001B[39;49m\u001B[43m \u001B[49m\u001B[43mc2\u001B[49m\n",
      "\u001B[1;31mTypeError\u001B[0m: unsupported operand type(s) for +: 'PhoneBook' and 'Contact'"
     ]
    }
   ],
   "source": [
    "p + c2"
   ],
   "metadata": {
    "collapsed": false,
    "pycharm": {
     "name": "#%%\n"
    }
   }
  },
  {
   "cell_type": "code",
   "execution_count": 18,
   "outputs": [],
   "source": [
    "class PhoneBook:\n",
    "    def __init__(self, contacts:list=None):\n",
    "        if contacts is not None:\n",
    "            self.contacts = contacts\n",
    "        else:\n",
    "            self.contacts = []\n",
    "\n",
    "    def __repr__(self):\n",
    "        return f\"PhoneBook(contacts={self.contacts})\"\n",
    "\n",
    "    def add_contact(self, contact:Contact):\n",
    "        if not isinstance(contact, Contact):\n",
    "            raise TypeError(\"faghad az type Contact migire\")\n",
    "\n",
    "        self.contacts.append(contact)\n",
    "\n",
    "    def __add__(self, other):\n",
    "        if not isinstance(other, Contact):\n",
    "            raise TypeError(\"faghad az type Contact migire\")\n",
    "\n",
    "        pb = eval(self.__repr__())\n",
    "        pb.add_contact(other)\n",
    "        return pb"
   ],
   "metadata": {
    "collapsed": false,
    "pycharm": {
     "name": "#%%\n"
    }
   }
  },
  {
   "cell_type": "code",
   "execution_count": 19,
   "outputs": [],
   "source": [
    "p = PhoneBook()\n",
    "p.add_contact(c1)"
   ],
   "metadata": {
    "collapsed": false,
    "pycharm": {
     "name": "#%%\n"
    }
   }
  },
  {
   "cell_type": "code",
   "execution_count": 20,
   "outputs": [
    {
     "data": {
      "text/plain": "PhoneBook(contacts=[Contact(name='mohammad', last_name='fadakar', phone='+989100000000', email='None')])"
     },
     "execution_count": 20,
     "metadata": {},
     "output_type": "execute_result"
    }
   ],
   "source": [
    "p"
   ],
   "metadata": {
    "collapsed": false,
    "pycharm": {
     "name": "#%%\n"
    }
   }
  },
  {
   "cell_type": "code",
   "execution_count": 21,
   "outputs": [
    {
     "data": {
      "text/plain": "PhoneBook(contacts=[Contact(name='mohammad', last_name='fadakar', phone='+989100000000', email='None'), Contact(name='mohammad2', last_name='fadakar2', phone='+989100000002', email='None')])"
     },
     "execution_count": 21,
     "metadata": {},
     "output_type": "execute_result"
    }
   ],
   "source": [
    "p + c2"
   ],
   "metadata": {
    "collapsed": false,
    "pycharm": {
     "name": "#%%\n"
    }
   }
  },
  {
   "cell_type": "code",
   "execution_count": 22,
   "outputs": [],
   "source": [
    "p2 = p + c2"
   ],
   "metadata": {
    "collapsed": false,
    "pycharm": {
     "name": "#%%\n"
    }
   }
  },
  {
   "cell_type": "code",
   "execution_count": 23,
   "outputs": [
    {
     "data": {
      "text/plain": "PhoneBook(contacts=[Contact(name='mohammad', last_name='fadakar', phone='+989100000000', email='None'), Contact(name='mohammad2', last_name='fadakar2', phone='+989100000002', email='None')])"
     },
     "execution_count": 23,
     "metadata": {},
     "output_type": "execute_result"
    }
   ],
   "source": [
    "p2"
   ],
   "metadata": {
    "collapsed": false,
    "pycharm": {
     "name": "#%%\n"
    }
   }
  },
  {
   "cell_type": "code",
   "execution_count": 24,
   "outputs": [
    {
     "ename": "TypeError",
     "evalue": "unsupported operand type(s) for +: 'Contact' and 'PhoneBook'",
     "output_type": "error",
     "traceback": [
      "\u001B[1;31m---------------------------------------------------------------------------\u001B[0m",
      "\u001B[1;31mTypeError\u001B[0m                                 Traceback (most recent call last)",
      "Input \u001B[1;32mIn [24]\u001B[0m, in \u001B[0;36m<cell line: 1>\u001B[1;34m()\u001B[0m\n\u001B[1;32m----> 1\u001B[0m \u001B[43mc3\u001B[49m\u001B[43m \u001B[49m\u001B[38;5;241;43m+\u001B[39;49m\u001B[43m \u001B[49m\u001B[43mp2\u001B[49m\n",
      "\u001B[1;31mTypeError\u001B[0m: unsupported operand type(s) for +: 'Contact' and 'PhoneBook'"
     ]
    }
   ],
   "source": [
    "c3 + p2"
   ],
   "metadata": {
    "collapsed": false,
    "pycharm": {
     "name": "#%%\n"
    }
   }
  },
  {
   "cell_type": "code",
   "execution_count": 26,
   "outputs": [],
   "source": [
    "class PhoneBook:\n",
    "    def __init__(self, contacts:list=None):\n",
    "        if contacts is not None:\n",
    "            self.contacts = contacts\n",
    "        else:\n",
    "            self.contacts = []\n",
    "\n",
    "    def __repr__(self):\n",
    "        return f\"PhoneBook(contacts={self.contacts})\"\n",
    "\n",
    "    def add_contact(self, contact:Contact):\n",
    "        if not isinstance(contact, Contact):\n",
    "            raise TypeError(\"faghad az type Contact migire\")\n",
    "\n",
    "        self.contacts.append(contact)\n",
    "\n",
    "    def __add__(self, other):\n",
    "        if not isinstance(other, Contact):\n",
    "            raise TypeError(\"faghad az type Contact migire\")\n",
    "\n",
    "        pb = eval(self.__repr__())\n",
    "        pb.add_contact(other)\n",
    "        return pb\n",
    "\n",
    "    def __radd__(self, other):\n",
    "        return self + other"
   ],
   "metadata": {
    "collapsed": false,
    "pycharm": {
     "name": "#%%\n"
    }
   }
  },
  {
   "cell_type": "code",
   "execution_count": 27,
   "outputs": [],
   "source": [
    "p = PhoneBook()\n",
    "p.add_contact(c1)"
   ],
   "metadata": {
    "collapsed": false,
    "pycharm": {
     "name": "#%%\n"
    }
   }
  },
  {
   "cell_type": "code",
   "execution_count": 28,
   "outputs": [
    {
     "data": {
      "text/plain": "PhoneBook(contacts=[Contact(name='mohammad', last_name='fadakar', phone='+989100000000', email='None'), Contact(name='mohammad2', last_name='fadakar2', phone='+989100000002', email='None')])"
     },
     "execution_count": 28,
     "metadata": {},
     "output_type": "execute_result"
    }
   ],
   "source": [
    "c2 + p"
   ],
   "metadata": {
    "collapsed": false,
    "pycharm": {
     "name": "#%%\n"
    }
   }
  },
  {
   "cell_type": "code",
   "execution_count": 29,
   "outputs": [],
   "source": [
    "p += c3"
   ],
   "metadata": {
    "collapsed": false,
    "pycharm": {
     "name": "#%%\n"
    }
   }
  },
  {
   "cell_type": "code",
   "execution_count": 30,
   "outputs": [
    {
     "data": {
      "text/plain": "PhoneBook(contacts=[Contact(name='mohammad', last_name='fadakar', phone='+989100000000', email='None'), Contact(name='mohammad javad', last_name='fadakar', phone='+989100000003', email='None')])"
     },
     "execution_count": 30,
     "metadata": {},
     "output_type": "execute_result"
    }
   ],
   "source": [
    "p"
   ],
   "metadata": {
    "collapsed": false,
    "pycharm": {
     "name": "#%%\n"
    }
   }
  },
  {
   "cell_type": "code",
   "execution_count": 31,
   "outputs": [],
   "source": [
    "p += c3"
   ],
   "metadata": {
    "collapsed": false,
    "pycharm": {
     "name": "#%%\n"
    }
   }
  },
  {
   "cell_type": "code",
   "execution_count": 32,
   "outputs": [],
   "source": [
    "p += c2"
   ],
   "metadata": {
    "collapsed": false,
    "pycharm": {
     "name": "#%%\n"
    }
   }
  },
  {
   "cell_type": "code",
   "execution_count": 34,
   "outputs": [
    {
     "data": {
      "text/plain": "PhoneBook(contacts=[Contact(name='mohammad', last_name='fadakar', phone='+989100000000', email='None'), Contact(name='mohammad javad', last_name='fadakar', phone='+989100000003', email='None'), Contact(name='mohammad javad', last_name='fadakar', phone='+989100000003', email='None'), Contact(name='mohammad2', last_name='fadakar2', phone='+989100000002', email='None')])"
     },
     "execution_count": 34,
     "metadata": {},
     "output_type": "execute_result"
    }
   ],
   "source": [
    "p"
   ],
   "metadata": {
    "collapsed": false,
    "pycharm": {
     "name": "#%%\n"
    }
   }
  },
  {
   "cell_type": "code",
   "execution_count": 35,
   "outputs": [],
   "source": [
    "# mul - rmul - imul"
   ],
   "metadata": {
    "collapsed": false,
    "pycharm": {
     "name": "#%%\n"
    }
   }
  },
  {
   "cell_type": "code",
   "execution_count": 36,
   "outputs": [],
   "source": [
    "# div"
   ],
   "metadata": {
    "collapsed": false,
    "pycharm": {
     "name": "#%%\n"
    }
   }
  },
  {
   "cell_type": "code",
   "execution_count": 37,
   "outputs": [],
   "source": [
    "# sub"
   ],
   "metadata": {
    "collapsed": false,
    "pycharm": {
     "name": "#%%\n"
    }
   }
  },
  {
   "cell_type": "code",
   "execution_count": 39,
   "outputs": [],
   "source": [
    "l1 = list(range(10))"
   ],
   "metadata": {
    "collapsed": false,
    "pycharm": {
     "name": "#%%\n"
    }
   }
  },
  {
   "cell_type": "code",
   "execution_count": 40,
   "outputs": [
    {
     "data": {
      "text/plain": "0"
     },
     "execution_count": 40,
     "metadata": {},
     "output_type": "execute_result"
    }
   ],
   "source": [
    "l1[0]"
   ],
   "metadata": {
    "collapsed": false,
    "pycharm": {
     "name": "#%%\n"
    }
   }
  },
  {
   "cell_type": "code",
   "execution_count": 41,
   "outputs": [
    {
     "data": {
      "text/plain": "[0, 1, 2]"
     },
     "execution_count": 41,
     "metadata": {},
     "output_type": "execute_result"
    }
   ],
   "source": [
    "l1[0:3]"
   ],
   "metadata": {
    "collapsed": false,
    "pycharm": {
     "name": "#%%\n"
    }
   }
  },
  {
   "cell_type": "code",
   "execution_count": 43,
   "outputs": [],
   "source": [
    "class PhoneBook:\n",
    "    def __init__(self, contacts:list=None):\n",
    "        if contacts is not None:\n",
    "            self.contacts = contacts\n",
    "        else:\n",
    "            self.contacts = []\n",
    "\n",
    "    def __repr__(self):\n",
    "        return f\"PhoneBook(contacts={self.contacts})\"\n",
    "\n",
    "    def add_contact(self, contact:Contact):\n",
    "        if not isinstance(contact, Contact):\n",
    "            raise TypeError(\"faghad az type Contact migire\")\n",
    "\n",
    "        self.contacts.append(contact)\n",
    "\n",
    "    def __add__(self, other):\n",
    "        if not isinstance(other, Contact):\n",
    "            raise TypeError(\"faghad az type Contact migire\")\n",
    "\n",
    "        pb = eval(self.__repr__())\n",
    "        pb.add_contact(other)\n",
    "        return pb\n",
    "\n",
    "    def __radd__(self, other):\n",
    "        return self + other\n",
    "\n",
    "    def __getitem__(self, item):\n",
    "        return self.contacts[item]"
   ],
   "metadata": {
    "collapsed": false,
    "pycharm": {
     "name": "#%%\n"
    }
   }
  },
  {
   "cell_type": "code",
   "execution_count": 44,
   "outputs": [],
   "source": [
    "p = PhoneBook()\n",
    "p.add_contact(c1)"
   ],
   "metadata": {
    "collapsed": false,
    "pycharm": {
     "name": "#%%\n"
    }
   }
  },
  {
   "cell_type": "code",
   "execution_count": 45,
   "outputs": [],
   "source": [
    "p += c2"
   ],
   "metadata": {
    "collapsed": false,
    "pycharm": {
     "name": "#%%\n"
    }
   }
  },
  {
   "cell_type": "code",
   "execution_count": 46,
   "outputs": [
    {
     "data": {
      "text/plain": "Contact(name='mohammad', last_name='fadakar', phone='+989100000000', email='None')"
     },
     "execution_count": 46,
     "metadata": {},
     "output_type": "execute_result"
    }
   ],
   "source": [
    "p[0]"
   ],
   "metadata": {
    "collapsed": false,
    "pycharm": {
     "name": "#%%\n"
    }
   }
  },
  {
   "cell_type": "code",
   "execution_count": 47,
   "outputs": [
    {
     "data": {
      "text/plain": "Contact(name='mohammad2', last_name='fadakar2', phone='+989100000002', email='None')"
     },
     "execution_count": 47,
     "metadata": {},
     "output_type": "execute_result"
    }
   ],
   "source": [
    "p[1]"
   ],
   "metadata": {
    "collapsed": false,
    "pycharm": {
     "name": "#%%\n"
    }
   }
  },
  {
   "cell_type": "code",
   "execution_count": 48,
   "outputs": [
    {
     "data": {
      "text/plain": "[Contact(name='mohammad', last_name='fadakar', phone='+989100000000', email='None'),\n Contact(name='mohammad2', last_name='fadakar2', phone='+989100000002', email='None')]"
     },
     "execution_count": 48,
     "metadata": {},
     "output_type": "execute_result"
    }
   ],
   "source": [
    "p[0:2]"
   ],
   "metadata": {
    "collapsed": false,
    "pycharm": {
     "name": "#%%\n"
    }
   }
  },
  {
   "cell_type": "code",
   "execution_count": 49,
   "outputs": [],
   "source": [
    "class PhoneBook:\n",
    "    def __init__(self, contacts:list=None):\n",
    "        if contacts is not None:\n",
    "            self.contacts = contacts\n",
    "        else:\n",
    "            self.contacts = []\n",
    "\n",
    "    def __repr__(self):\n",
    "        return f\"PhoneBook(contacts={self.contacts})\"\n",
    "\n",
    "    def add_contact(self, contact:Contact):\n",
    "        if not isinstance(contact, Contact):\n",
    "            raise TypeError(\"faghad az type Contact migire\")\n",
    "\n",
    "        self.contacts.append(contact)\n",
    "\n",
    "    def __add__(self, other):\n",
    "        if not isinstance(other, Contact):\n",
    "            raise TypeError(\"faghad az type Contact migire\")\n",
    "\n",
    "        pb = eval(self.__repr__())\n",
    "        pb.add_contact(other)\n",
    "        return pb\n",
    "\n",
    "    def __radd__(self, other):\n",
    "        return self + other\n",
    "\n",
    "    def __getitem__(self, item):\n",
    "        if isinstance(item, str):\n",
    "            for contact in self.contacts:\n",
    "                if contact.last_name == item:\n",
    "                    return contact\n",
    "        return self.contacts[item]"
   ],
   "metadata": {
    "collapsed": false,
    "pycharm": {
     "name": "#%%\n"
    }
   }
  },
  {
   "cell_type": "code",
   "execution_count": 50,
   "outputs": [],
   "source": [
    "p = PhoneBook()\n",
    "p.add_contact(c1)\n",
    "p += c2"
   ],
   "metadata": {
    "collapsed": false,
    "pycharm": {
     "name": "#%%\n"
    }
   }
  },
  {
   "cell_type": "code",
   "execution_count": 51,
   "outputs": [
    {
     "data": {
      "text/plain": "PhoneBook(contacts=[Contact(name='mohammad', last_name='fadakar', phone='+989100000000', email='None'), Contact(name='mohammad2', last_name='fadakar2', phone='+989100000002', email='None')])"
     },
     "execution_count": 51,
     "metadata": {},
     "output_type": "execute_result"
    }
   ],
   "source": [
    "p"
   ],
   "metadata": {
    "collapsed": false,
    "pycharm": {
     "name": "#%%\n"
    }
   }
  },
  {
   "cell_type": "code",
   "execution_count": 52,
   "outputs": [
    {
     "data": {
      "text/plain": "Contact(name='mohammad', last_name='fadakar', phone='+989100000000', email='None')"
     },
     "execution_count": 52,
     "metadata": {},
     "output_type": "execute_result"
    }
   ],
   "source": [
    "p[\"fadakar\"]"
   ],
   "metadata": {
    "collapsed": false,
    "pycharm": {
     "name": "#%%\n"
    }
   }
  },
  {
   "cell_type": "code",
   "execution_count": 54,
   "outputs": [],
   "source": [
    "class PhoneBook:\n",
    "    def __init__(self, contacts:list=None):\n",
    "        if contacts is not None:\n",
    "            self.contacts = contacts\n",
    "        else:\n",
    "            self.contacts = []\n",
    "\n",
    "    def __repr__(self):\n",
    "        return f\"PhoneBook(contacts={self.contacts})\"\n",
    "\n",
    "    def add_contact(self, contact:Contact):\n",
    "        if not isinstance(contact, Contact):\n",
    "            raise TypeError(\"faghad az type Contact migire\")\n",
    "\n",
    "        self.contacts.append(contact)\n",
    "\n",
    "    def __add__(self, other):\n",
    "        if not isinstance(other, Contact):\n",
    "            raise TypeError(\"faghad az type Contact migire\")\n",
    "\n",
    "        pb = eval(self.__repr__())\n",
    "        pb.add_contact(other)\n",
    "        return pb\n",
    "\n",
    "    def __radd__(self, other):\n",
    "        return self + other\n",
    "\n",
    "    def __getitem__(self, item):\n",
    "        if isinstance(item, str):\n",
    "            for contact in self.contacts:\n",
    "                if contact.last_name == item:\n",
    "                    return contact\n",
    "        return self.contacts[item]\n",
    "\n",
    "    def __getinfo__(self):\n",
    "        return \"test\""
   ],
   "metadata": {
    "collapsed": false,
    "pycharm": {
     "name": "#%%\n"
    }
   }
  },
  {
   "cell_type": "code",
   "execution_count": 55,
   "outputs": [],
   "source": [
    "p = PhoneBook()"
   ],
   "metadata": {
    "collapsed": false,
    "pycharm": {
     "name": "#%%\n"
    }
   }
  },
  {
   "cell_type": "code",
   "execution_count": 56,
   "outputs": [
    {
     "data": {
      "text/plain": "'test'"
     },
     "execution_count": 56,
     "metadata": {},
     "output_type": "execute_result"
    }
   ],
   "source": [
    "p.__getinfo__()"
   ],
   "metadata": {
    "collapsed": false,
    "pycharm": {
     "name": "#%%\n"
    }
   }
  },
  {
   "cell_type": "code",
   "execution_count": 58,
   "outputs": [
    {
     "data": {
      "text/plain": "mappingproxy({'__module__': '__main__',\n              '__init__': <function __main__.PhoneBook.__init__(self, contacts: list = None)>,\n              '__repr__': <function __main__.PhoneBook.__repr__(self)>,\n              'add_contact': <function __main__.PhoneBook.add_contact(self, contact: __main__.Contact)>,\n              '__add__': <function __main__.PhoneBook.__add__(self, other)>,\n              '__radd__': <function __main__.PhoneBook.__radd__(self, other)>,\n              '__getitem__': <function __main__.PhoneBook.__getitem__(self, item)>,\n              '__getinfo__': <function __main__.PhoneBook.__getinfo__(self)>,\n              '__dict__': <attribute '__dict__' of 'PhoneBook' objects>,\n              '__weakref__': <attribute '__weakref__' of 'PhoneBook' objects>,\n              '__doc__': None})"
     },
     "execution_count": 58,
     "metadata": {},
     "output_type": "execute_result"
    }
   ],
   "source": [
    "PhoneBook.__dict__"
   ],
   "metadata": {
    "collapsed": false,
    "pycharm": {
     "name": "#%%\n"
    }
   }
  },
  {
   "cell_type": "code",
   "execution_count": null,
   "outputs": [],
   "source": [],
   "metadata": {
    "collapsed": false,
    "pycharm": {
     "name": "#%%\n"
    }
   }
  }
 ],
 "metadata": {
  "kernelspec": {
   "display_name": "Python 3",
   "language": "python",
   "name": "python3"
  },
  "language_info": {
   "codemirror_mode": {
    "name": "ipython",
    "version": 2
   },
   "file_extension": ".py",
   "mimetype": "text/x-python",
   "name": "python",
   "nbconvert_exporter": "python",
   "pygments_lexer": "ipython2",
   "version": "2.7.6"
  }
 },
 "nbformat": 4,
 "nbformat_minor": 0
}