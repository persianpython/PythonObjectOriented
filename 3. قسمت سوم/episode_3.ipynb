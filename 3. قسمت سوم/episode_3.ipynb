{
 "cells": [
  {
   "cell_type": "code",
   "execution_count": 2,
   "outputs": [],
   "source": [
    "class Peykan:\n",
    "    color='red'\n",
    "    doors=4\n",
    "\n",
    "    def __init__(self, color='red'):\n",
    "        self.color = color\n",
    "\n",
    "    def drive(self):\n",
    "        return f\"Peykan dar hale ranadegi hastesh  -> {self}\"\n",
    "\n",
    "    # @classmethod\n",
    "    def auto_drive(cls):\n",
    "        return f'Auto Driving ! -> {cls}'\n",
    "\n",
    "    # @staticmethod\n",
    "    def another_func():\n",
    "        pass\n",
    "\n",
    "    auto_drive = classmethod(auto_drive)\n",
    "    another_func = staticmethod(another_func)"
   ],
   "metadata": {
    "collapsed": false,
    "pycharm": {
     "name": "#%%\n"
    }
   }
  },
  {
   "cell_type": "code",
   "execution_count": 4,
   "outputs": [
    {
     "data": {
      "text/plain": "mappingproxy({'__module__': '__main__',\n              'color': 'red',\n              'doors': 4,\n              '__init__': <function __main__.Peykan.__init__(self, color='red')>,\n              'drive': <function __main__.Peykan.drive(self)>,\n              '__dict__': <attribute '__dict__' of 'Peykan' objects>,\n              '__weakref__': <attribute '__weakref__' of 'Peykan' objects>,\n              '__doc__': None})"
     },
     "execution_count": 4,
     "metadata": {},
     "output_type": "execute_result"
    }
   ],
   "source": [
    "Peykan.__dict__"
   ],
   "metadata": {
    "collapsed": false,
    "pycharm": {
     "name": "#%%\n"
    }
   }
  },
  {
   "cell_type": "code",
   "execution_count": 5,
   "outputs": [],
   "source": [
    "p1 = Peykan()"
   ],
   "metadata": {
    "collapsed": false,
    "pycharm": {
     "name": "#%%\n"
    }
   }
  },
  {
   "cell_type": "code",
   "execution_count": 6,
   "outputs": [
    {
     "data": {
      "text/plain": "{'color': 'red'}"
     },
     "execution_count": 6,
     "metadata": {},
     "output_type": "execute_result"
    }
   ],
   "source": [
    "p1.__dict__"
   ],
   "metadata": {
    "collapsed": false,
    "pycharm": {
     "name": "#%%\n"
    }
   }
  },
  {
   "cell_type": "code",
   "execution_count": 7,
   "outputs": [],
   "source": [
    "p1.doors = 6"
   ],
   "metadata": {
    "collapsed": false,
    "pycharm": {
     "name": "#%%\n"
    }
   }
  },
  {
   "cell_type": "code",
   "execution_count": 8,
   "outputs": [
    {
     "data": {
      "text/plain": "{'color': 'red', 'doors': 6}"
     },
     "execution_count": 8,
     "metadata": {},
     "output_type": "execute_result"
    }
   ],
   "source": [
    "p1.__dict__"
   ],
   "metadata": {
    "collapsed": false,
    "pycharm": {
     "name": "#%%\n"
    }
   }
  },
  {
   "cell_type": "code",
   "execution_count": 9,
   "outputs": [],
   "source": [
    "p1.__dict__[\"name\"] = 'peykan'"
   ],
   "metadata": {
    "collapsed": false,
    "pycharm": {
     "name": "#%%\n"
    }
   }
  },
  {
   "cell_type": "code",
   "execution_count": 10,
   "outputs": [
    {
     "data": {
      "text/plain": "'peykan'"
     },
     "execution_count": 10,
     "metadata": {},
     "output_type": "execute_result"
    }
   ],
   "source": [
    "p1.name"
   ],
   "metadata": {
    "collapsed": false,
    "pycharm": {
     "name": "#%%\n"
    }
   }
  },
  {
   "cell_type": "code",
   "execution_count": 11,
   "outputs": [
    {
     "data": {
      "text/plain": "{'color': 'red', 'doors': 6, 'name': 'peykan'}"
     },
     "execution_count": 11,
     "metadata": {},
     "output_type": "execute_result"
    }
   ],
   "source": [
    "p1.__dict__"
   ],
   "metadata": {
    "collapsed": false,
    "pycharm": {
     "name": "#%%\n"
    }
   }
  },
  {
   "cell_type": "code",
   "execution_count": 12,
   "outputs": [],
   "source": [
    "class Tires:\n",
    "    def __init__(self, kind, distance_covered):\n",
    "        self.kind = kind\n",
    "        self.distance_covered = distance_covered\n",
    "class Peykan:\n",
    "    color='red'\n",
    "    doors=4\n",
    "    tires = [Tires('pelastik', '10') for _ in range(4)]\n",
    "    def __init__(self, color='red'):\n",
    "        self.color = color\n",
    "\n",
    "    def drive(self):\n",
    "        return f\"Peykan dar hale ranadegi hastesh  -> {self}\"\n",
    "\n",
    "    # @classmethod\n",
    "    def auto_drive(cls):\n",
    "        return f'Auto Driving ! -> {cls}'\n",
    "\n",
    "    # @staticmethod\n",
    "    def another_func():\n",
    "        pass\n",
    "\n",
    "    auto_drive = classmethod(auto_drive)\n",
    "    another_func = staticmethod(another_func)\n"
   ],
   "metadata": {
    "collapsed": false,
    "pycharm": {
     "name": "#%%\n"
    }
   }
  },
  {
   "cell_type": "code",
   "execution_count": 13,
   "outputs": [
    {
     "data": {
      "text/plain": "[<__main__.Tires at 0x1e8cf46ca30>,\n <__main__.Tires at 0x1e8cf46e7d0>,\n <__main__.Tires at 0x1e8cf46c5b0>,\n <__main__.Tires at 0x1e8cf46c190>]"
     },
     "execution_count": 13,
     "metadata": {},
     "output_type": "execute_result"
    }
   ],
   "source": [
    "p1 = Peykan()\n",
    "p1.tires"
   ],
   "metadata": {
    "collapsed": false,
    "pycharm": {
     "name": "#%%\n"
    }
   }
  },
  {
   "cell_type": "code",
   "execution_count": 14,
   "outputs": [],
   "source": [
    "p1.tires.append(Tires('pelastik', 5))"
   ],
   "metadata": {
    "collapsed": false,
    "pycharm": {
     "name": "#%%\n"
    }
   }
  },
  {
   "cell_type": "code",
   "execution_count": 15,
   "outputs": [
    {
     "data": {
      "text/plain": "[<__main__.Tires at 0x1e8cf46ca30>,\n <__main__.Tires at 0x1e8cf46e7d0>,\n <__main__.Tires at 0x1e8cf46c5b0>,\n <__main__.Tires at 0x1e8cf46c190>,\n <__main__.Tires at 0x1e8cf46d2d0>]"
     },
     "execution_count": 15,
     "metadata": {},
     "output_type": "execute_result"
    }
   ],
   "source": [
    "p1.tires"
   ],
   "metadata": {
    "collapsed": false,
    "pycharm": {
     "name": "#%%\n"
    }
   }
  },
  {
   "cell_type": "code",
   "execution_count": 16,
   "outputs": [
    {
     "data": {
      "text/plain": "[<__main__.Tires at 0x1e8cf46ca30>,\n <__main__.Tires at 0x1e8cf46e7d0>,\n <__main__.Tires at 0x1e8cf46c5b0>,\n <__main__.Tires at 0x1e8cf46c190>,\n <__main__.Tires at 0x1e8cf46d2d0>]"
     },
     "execution_count": 16,
     "metadata": {},
     "output_type": "execute_result"
    }
   ],
   "source": [
    "Peykan.tires"
   ],
   "metadata": {
    "collapsed": false,
    "pycharm": {
     "name": "#%%\n"
    }
   }
  },
  {
   "cell_type": "code",
   "execution_count": 17,
   "outputs": [
    {
     "data": {
      "text/plain": "[<__main__.Tires at 0x1e8cf46ca30>,\n <__main__.Tires at 0x1e8cf46e7d0>,\n <__main__.Tires at 0x1e8cf46c5b0>,\n <__main__.Tires at 0x1e8cf46c190>,\n <__main__.Tires at 0x1e8cf46d2d0>]"
     },
     "execution_count": 17,
     "metadata": {},
     "output_type": "execute_result"
    }
   ],
   "source": [
    "p2 = Peykan()\n",
    "p2.tires"
   ],
   "metadata": {
    "collapsed": false,
    "pycharm": {
     "name": "#%%\n"
    }
   }
  },
  {
   "cell_type": "code",
   "execution_count": 18,
   "outputs": [],
   "source": [
    "class Tires:\n",
    "    def __init__(self, kind, distance_covered):\n",
    "        self.kind = kind\n",
    "        self.distance_covered = distance_covered\n",
    "class Peykan:\n",
    "    color='red'\n",
    "    doors=4\n",
    "    tires = [Tires('pelastik', '10') for _ in range(4)]\n",
    "    def __init__(self, color='red'):\n",
    "        self.color = color\n",
    "\n",
    "    def drive(self):\n",
    "        return f\"Peykan dar hale ranadegi hastesh  -> {self}\"\n",
    "\n",
    "    # @classmethod\n",
    "    def auto_drive(cls):\n",
    "        return f'Auto Driving ! -> {cls}'\n",
    "\n",
    "    # @staticmethod\n",
    "    def another_func():\n",
    "        pass\n",
    "\n",
    "    auto_drive = classmethod(auto_drive)\n",
    "    another_func = staticmethod(another_func)"
   ],
   "metadata": {
    "collapsed": false,
    "pycharm": {
     "name": "#%%\n"
    }
   }
  },
  {
   "cell_type": "code",
   "execution_count": 19,
   "outputs": [
    {
     "name": "stdout",
     "output_type": "stream",
     "text": [
      "Help on built-in function getattr in module builtins:\n",
      "\n",
      "getattr(...)\n",
      "    getattr(object, name[, default]) -> value\n",
      "    \n",
      "    Get a named attribute from an object; getattr(x, 'y') is equivalent to x.y.\n",
      "    When a default argument is given, it is returned when the attribute doesn't\n",
      "    exist; without it, an exception is raised in that case.\n",
      "\n"
     ]
    }
   ],
   "source": [
    "help(getattr)"
   ],
   "metadata": {
    "collapsed": false,
    "pycharm": {
     "name": "#%%\n"
    }
   }
  },
  {
   "cell_type": "code",
   "execution_count": 20,
   "outputs": [
    {
     "name": "stdout",
     "output_type": "stream",
     "text": [
      "Help on class Peykan in module __main__:\n",
      "\n",
      "class Peykan(builtins.object)\n",
      " |  Peykan(color='red')\n",
      " |  \n",
      " |  Methods defined here:\n",
      " |  \n",
      " |  __init__(self, color='red')\n",
      " |      Initialize self.  See help(type(self)) for accurate signature.\n",
      " |  \n",
      " |  drive(self)\n",
      " |  \n",
      " |  ----------------------------------------------------------------------\n",
      " |  Class methods defined here:\n",
      " |  \n",
      " |  auto_drive() from builtins.type\n",
      " |      # @classmethod\n",
      " |  \n",
      " |  ----------------------------------------------------------------------\n",
      " |  Static methods defined here:\n",
      " |  \n",
      " |  another_func()\n",
      " |      # @staticmethod\n",
      " |  \n",
      " |  ----------------------------------------------------------------------\n",
      " |  Data descriptors defined here:\n",
      " |  \n",
      " |  __dict__\n",
      " |      dictionary for instance variables (if defined)\n",
      " |  \n",
      " |  __weakref__\n",
      " |      list of weak references to the object (if defined)\n",
      " |  \n",
      " |  ----------------------------------------------------------------------\n",
      " |  Data and other attributes defined here:\n",
      " |  \n",
      " |  color = 'red'\n",
      " |  \n",
      " |  doors = 4\n",
      " |  \n",
      " |  tires = [<__main__.Tires object>, <__main__.Tires object>, <__main__.T...\n",
      "\n"
     ]
    }
   ],
   "source": [
    "help(Peykan)"
   ],
   "metadata": {
    "collapsed": false,
    "pycharm": {
     "name": "#%%\n"
    }
   }
  },
  {
   "cell_type": "code",
   "execution_count": 22,
   "outputs": [],
   "source": [
    "class Peykan:\n",
    "\n",
    "    \"\"\"\n",
    "    in class Peykan hastesh\n",
    "    :param color: range mashine\n",
    "    \"\"\"\n",
    "\n",
    "    color='red'\n",
    "    doors=4\n",
    "    tires = [Tires('pelastik', '10') for _ in range(4)]\n",
    "    def __init__(self, color='red'):\n",
    "        self.color = color\n",
    "\n",
    "    def drive(self):\n",
    "        return f\"Peykan dar hale ranadegi hastesh  -> {self}\"\n",
    "\n",
    "    # @classmethod\n",
    "    def auto_drive(cls):\n",
    "        return f'Auto Driving ! -> {cls}'\n",
    "\n",
    "    # @staticmethod\n",
    "    def another_func():\n",
    "        pass\n",
    "\n",
    "    auto_drive = classmethod(auto_drive)\n",
    "    another_func = staticmethod(another_func)"
   ],
   "metadata": {
    "collapsed": false,
    "pycharm": {
     "name": "#%%\n"
    }
   }
  },
  {
   "cell_type": "code",
   "execution_count": 23,
   "outputs": [
    {
     "name": "stdout",
     "output_type": "stream",
     "text": [
      "Help on class Peykan in module __main__:\n",
      "\n",
      "class Peykan(builtins.object)\n",
      " |  Peykan(color='red')\n",
      " |  \n",
      " |  in class Peykan hastesh\n",
      " |  :param color: range mashine\n",
      " |  \n",
      " |  Methods defined here:\n",
      " |  \n",
      " |  __init__(self, color='red')\n",
      " |      Initialize self.  See help(type(self)) for accurate signature.\n",
      " |  \n",
      " |  drive(self)\n",
      " |  \n",
      " |  ----------------------------------------------------------------------\n",
      " |  Class methods defined here:\n",
      " |  \n",
      " |  auto_drive() from builtins.type\n",
      " |      # @classmethod\n",
      " |  \n",
      " |  ----------------------------------------------------------------------\n",
      " |  Static methods defined here:\n",
      " |  \n",
      " |  another_func()\n",
      " |      # @staticmethod\n",
      " |  \n",
      " |  ----------------------------------------------------------------------\n",
      " |  Data descriptors defined here:\n",
      " |  \n",
      " |  __dict__\n",
      " |      dictionary for instance variables (if defined)\n",
      " |  \n",
      " |  __weakref__\n",
      " |      list of weak references to the object (if defined)\n",
      " |  \n",
      " |  ----------------------------------------------------------------------\n",
      " |  Data and other attributes defined here:\n",
      " |  \n",
      " |  color = 'red'\n",
      " |  \n",
      " |  doors = 4\n",
      " |  \n",
      " |  tires = [<__main__.Tires object>, <__main__.Tires object>, <__main__.T...\n",
      "\n"
     ]
    }
   ],
   "source": [
    "help(Peykan)"
   ],
   "metadata": {
    "collapsed": false,
    "pycharm": {
     "name": "#%%\n"
    }
   }
  },
  {
   "cell_type": "code",
   "execution_count": 24,
   "outputs": [
    {
     "data": {
      "text/plain": "mappingproxy({'__module__': '__main__',\n              '__doc__': '\\n    in class Peykan hastesh\\n    :param color: range mashine\\n    ',\n              'color': 'red',\n              'doors': 4,\n              'tires': [<__main__.Tires at 0x1e8cf46c760>,\n               <__main__.Tires at 0x1e8cf46df60>,\n               <__main__.Tires at 0x1e8cf46f970>,\n               <__main__.Tires at 0x1e8cf46cfa0>],\n              '__init__': <function __main__.Peykan.__init__(self, color='red')>,\n              'drive': <function __main__.Peykan.drive(self)>,\n              'auto_drive': <classmethod(<function Peykan.auto_drive at 0x000001E8D0580280>)>,\n              'another_func': <staticmethod(<function Peykan.another_func at 0x000001E8D0580310>)>,\n              '__dict__': <attribute '__dict__' of 'Peykan' objects>,\n              '__weakref__': <attribute '__weakref__' of 'Peykan' objects>})"
     },
     "execution_count": 24,
     "metadata": {},
     "output_type": "execute_result"
    }
   ],
   "source": [
    "Peykan.__dict__"
   ],
   "metadata": {
    "collapsed": false,
    "pycharm": {
     "name": "#%%\n"
    }
   }
  },
  {
   "cell_type": "code",
   "execution_count": 25,
   "outputs": [],
   "source": [
    "# __str__\n",
    "# __repr__"
   ],
   "metadata": {
    "collapsed": false,
    "pycharm": {
     "name": "#%%\n"
    }
   }
  },
  {
   "cell_type": "code",
   "execution_count": 26,
   "outputs": [],
   "source": [
    "class Human:\n",
    "    def __init__(self, name, family):\n",
    "        self.name = name\n",
    "        self.family = family\n"
   ],
   "metadata": {
    "collapsed": false,
    "pycharm": {
     "name": "#%%\n"
    }
   }
  },
  {
   "cell_type": "code",
   "execution_count": 27,
   "outputs": [],
   "source": [
    "h = Human('mohammad', 'fadakar')"
   ],
   "metadata": {
    "collapsed": false,
    "pycharm": {
     "name": "#%%\n"
    }
   }
  },
  {
   "cell_type": "code",
   "execution_count": 28,
   "outputs": [
    {
     "data": {
      "text/plain": "<__main__.Human at 0x1e8cf46fbb0>"
     },
     "execution_count": 28,
     "metadata": {},
     "output_type": "execute_result"
    }
   ],
   "source": [
    "h"
   ],
   "metadata": {
    "collapsed": false,
    "pycharm": {
     "name": "#%%\n"
    }
   }
  },
  {
   "cell_type": "code",
   "execution_count": 30,
   "outputs": [],
   "source": [
    "class Human:\n",
    "    def __init__(self, name, family):\n",
    "        self.name = name\n",
    "        self.family = family\n",
    "\n",
    "    def __repr__(self):\n",
    "        return f\"{self.name} , {self.family}\""
   ],
   "metadata": {
    "collapsed": false,
    "pycharm": {
     "name": "#%%\n"
    }
   }
  },
  {
   "cell_type": "code",
   "execution_count": 31,
   "outputs": [],
   "source": [
    "h = Human(\"mohammad\", \"fadakar\")"
   ],
   "metadata": {
    "collapsed": false,
    "pycharm": {
     "name": "#%%\n"
    }
   }
  },
  {
   "cell_type": "code",
   "execution_count": 32,
   "outputs": [
    {
     "data": {
      "text/plain": "mohammad , fadakar"
     },
     "execution_count": 32,
     "metadata": {},
     "output_type": "execute_result"
    }
   ],
   "source": [
    "h"
   ],
   "metadata": {
    "collapsed": false,
    "pycharm": {
     "name": "#%%\n"
    }
   }
  },
  {
   "cell_type": "code",
   "execution_count": 33,
   "outputs": [
    {
     "name": "stdout",
     "output_type": "stream",
     "text": [
      "mohammad , fadakar\n"
     ]
    }
   ],
   "source": [
    "print(h)"
   ],
   "metadata": {
    "collapsed": false,
    "pycharm": {
     "name": "#%%\n"
    }
   }
  },
  {
   "cell_type": "code",
   "execution_count": 34,
   "outputs": [
    {
     "data": {
      "text/plain": "'mohammad , fadakar'"
     },
     "execution_count": 34,
     "metadata": {},
     "output_type": "execute_result"
    }
   ],
   "source": [
    "repr(h)"
   ],
   "metadata": {
    "collapsed": false,
    "pycharm": {
     "name": "#%%\n"
    }
   }
  },
  {
   "cell_type": "code",
   "execution_count": 36,
   "outputs": [],
   "source": [
    "class Human:\n",
    "    def __init__(self, name, family):\n",
    "        self.name = name\n",
    "        self.family = family\n",
    "\n",
    "    def __repr__(self):\n",
    "        return f\"{self.name} , {self.family}\"\n",
    "\n",
    "    def __str__(self):\n",
    "        return f\"my name is {self.name}\""
   ],
   "metadata": {
    "collapsed": false,
    "pycharm": {
     "name": "#%%\n"
    }
   }
  },
  {
   "cell_type": "code",
   "execution_count": 37,
   "outputs": [],
   "source": [
    "h = Human(\"mohammad\", \"fadakar\")"
   ],
   "metadata": {
    "collapsed": false,
    "pycharm": {
     "name": "#%%\n"
    }
   }
  },
  {
   "cell_type": "code",
   "execution_count": 38,
   "outputs": [
    {
     "data": {
      "text/plain": "mohammad , fadakar"
     },
     "execution_count": 38,
     "metadata": {},
     "output_type": "execute_result"
    }
   ],
   "source": [
    "h"
   ],
   "metadata": {
    "collapsed": false,
    "pycharm": {
     "name": "#%%\n"
    }
   }
  },
  {
   "cell_type": "code",
   "execution_count": 39,
   "outputs": [
    {
     "name": "stdout",
     "output_type": "stream",
     "text": [
      "my name is mohammad\n"
     ]
    }
   ],
   "source": [
    "print(h)"
   ],
   "metadata": {
    "collapsed": false,
    "pycharm": {
     "name": "#%%\n"
    }
   }
  },
  {
   "cell_type": "code",
   "execution_count": 40,
   "outputs": [
    {
     "data": {
      "text/plain": "'my name is mohammad'"
     },
     "execution_count": 40,
     "metadata": {},
     "output_type": "execute_result"
    }
   ],
   "source": [
    "str(h)"
   ],
   "metadata": {
    "collapsed": false,
    "pycharm": {
     "name": "#%%\n"
    }
   }
  },
  {
   "cell_type": "code",
   "execution_count": 41,
   "outputs": [
    {
     "data": {
      "text/plain": "'mohammad , fadakar'"
     },
     "execution_count": 41,
     "metadata": {},
     "output_type": "execute_result"
    }
   ],
   "source": [
    "repr(h)"
   ],
   "metadata": {
    "collapsed": false,
    "pycharm": {
     "name": "#%%\n"
    }
   }
  },
  {
   "cell_type": "code",
   "execution_count": 42,
   "outputs": [
    {
     "name": "stdout",
     "output_type": "stream",
     "text": [
      "do nothing\n"
     ]
    }
   ],
   "source": [
    "eval(\"print('do nothing')\")"
   ],
   "metadata": {
    "collapsed": false,
    "pycharm": {
     "name": "#%%\n"
    }
   }
  },
  {
   "cell_type": "code",
   "execution_count": 43,
   "outputs": [],
   "source": [
    "class Human:\n",
    "    def __init__(self, name, family):\n",
    "        self.name = name\n",
    "        self.family = family\n",
    "\n",
    "    def __repr__(self):\n",
    "        return f\"Human('{self.name}', '{self.family}')\"\n",
    "\n",
    "    def __str__(self):\n",
    "        return f\"my name is {self.name}\""
   ],
   "metadata": {
    "collapsed": false,
    "pycharm": {
     "name": "#%%\n"
    }
   }
  },
  {
   "cell_type": "code",
   "execution_count": 44,
   "outputs": [],
   "source": [
    "h = Human(\"mohammad\", \"fadakar\")"
   ],
   "metadata": {
    "collapsed": false,
    "pycharm": {
     "name": "#%%\n"
    }
   }
  },
  {
   "cell_type": "code",
   "execution_count": 45,
   "outputs": [
    {
     "data": {
      "text/plain": "\"Human('mohammad', 'fadakar')\""
     },
     "execution_count": 45,
     "metadata": {},
     "output_type": "execute_result"
    }
   ],
   "source": [
    "repr(h)"
   ],
   "metadata": {
    "collapsed": false,
    "pycharm": {
     "name": "#%%\n"
    }
   }
  },
  {
   "cell_type": "code",
   "execution_count": 46,
   "outputs": [
    {
     "data": {
      "text/plain": "Human('mohammad', 'fadakar')"
     },
     "execution_count": 46,
     "metadata": {},
     "output_type": "execute_result"
    }
   ],
   "source": [
    "eval(repr(h))"
   ],
   "metadata": {
    "collapsed": false,
    "pycharm": {
     "name": "#%%\n"
    }
   }
  },
  {
   "cell_type": "code",
   "execution_count": null,
   "outputs": [],
   "source": [
    "# print -> __str__ __repr__"
   ],
   "metadata": {
    "collapsed": false,
    "pycharm": {
     "name": "#%%\n"
    }
   }
  }
 ],
 "metadata": {
  "kernelspec": {
   "display_name": "Python 3",
   "language": "python",
   "name": "python3"
  },
  "language_info": {
   "codemirror_mode": {
    "name": "ipython",
    "version": 2
   },
   "file_extension": ".py",
   "mimetype": "text/x-python",
   "name": "python",
   "nbconvert_exporter": "python",
   "pygments_lexer": "ipython2",
   "version": "2.7.6"
  }
 },
 "nbformat": 4,
 "nbformat_minor": 0
}